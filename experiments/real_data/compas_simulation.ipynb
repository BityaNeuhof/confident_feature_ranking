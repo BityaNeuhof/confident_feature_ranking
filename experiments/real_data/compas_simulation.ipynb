{
 "cells": [
  {
   "cell_type": "code",
   "execution_count": 9,
   "id": "344c34bc",
   "metadata": {},
   "outputs": [],
   "source": [
    "import warnings\n",
    "warnings.simplefilter(action='ignore', category=FutureWarning)\n",
    "import sys\n",
    "sys.path.append('../..')\n",
    "from sklearn.model_selection import train_test_split\n",
    "import pandas as pd\n",
    "import numpy as np\n",
    "import matplotlib as mpl\n",
    "import matplotlib.pyplot as plt\n",
    "import matplotlib.pylab as pylab\n",
    "import seaborn as sns\n",
    "import xgboost as xgb\n",
    "from utils.general import calc_efficiency\n",
    "from utils.feature_importance import get_pfi_obs\n",
    "from utils.feature_ranking import confident_simultaneous_ranking\n",
    "from utils.plot_ranking import plot_ranks\n",
    "from experiments.real_data.preprocess_data import get_data_by_name\n",
    "%matplotlib inline\n",
    "sns.set_theme(style='whitegrid')"
   ]
  },
  {
   "cell_type": "code",
   "execution_count": 10,
   "id": "a2d0a392",
   "metadata": {},
   "outputs": [],
   "source": [
    "# Set all fonts' sizes\n",
    "params = {'legend.fontsize': 32,\n",
    "          'legend.title_fontsize': 32,\n",
    "          'axes.labelsize': 36,\n",
    "          'axes.titlesize':40,\n",
    "          'xtick.labelsize':32,\n",
    "          'ytick.labelsize':32, \n",
    "          'lines.linewidth': 4, \n",
    "          'figure.titlesize': 40}\n",
    "pylab.rcParams.update(params)\n",
    "\n",
    "# Avoid Type 3 fonts\n",
    "mpl.rcParams['pdf.fonttype'] = 42\n",
    "mpl.rcParams['ps.fonttype'] = 42"
   ]
  },
  {
   "cell_type": "code",
   "execution_count": 11,
   "id": "bb3de6e5",
   "metadata": {},
   "outputs": [],
   "source": [
    "name = 'compas'\n",
    "filepath = 'data/compas-scores-two-years.csv'\n",
    "out_path = r'../../figures/real_data/compas/'\n",
    "\n",
    "data, target_name = get_data_by_name(name, filepath)"
   ]
  },
  {
   "cell_type": "code",
   "execution_count": 12,
   "id": "f0d8b351",
   "metadata": {},
   "outputs": [
    {
     "data": {
      "text/html": [
       "<div>\n",
       "<style scoped>\n",
       "    .dataframe tbody tr th:only-of-type {\n",
       "        vertical-align: middle;\n",
       "    }\n",
       "\n",
       "    .dataframe tbody tr th {\n",
       "        vertical-align: top;\n",
       "    }\n",
       "\n",
       "    .dataframe thead th {\n",
       "        text-align: right;\n",
       "    }\n",
       "</style>\n",
       "<table border=\"1\" class=\"dataframe\">\n",
       "  <thead>\n",
       "    <tr style=\"text-align: right;\">\n",
       "      <th></th>\n",
       "      <th>Sex</th>\n",
       "      <th>Age</th>\n",
       "      <th>Priors_Count</th>\n",
       "      <th>C_Charge_Degree</th>\n",
       "      <th>Two_Year_Recid</th>\n",
       "      <th>Length_Of_Stay</th>\n",
       "      <th>Score</th>\n",
       "      <th>Race</th>\n",
       "    </tr>\n",
       "  </thead>\n",
       "  <tbody>\n",
       "    <tr>\n",
       "      <th>0</th>\n",
       "      <td>1</td>\n",
       "      <td>69</td>\n",
       "      <td>0</td>\n",
       "      <td>0</td>\n",
       "      <td>0</td>\n",
       "      <td>0</td>\n",
       "      <td>1</td>\n",
       "      <td>0</td>\n",
       "    </tr>\n",
       "    <tr>\n",
       "      <th>1</th>\n",
       "      <td>1</td>\n",
       "      <td>34</td>\n",
       "      <td>0</td>\n",
       "      <td>0</td>\n",
       "      <td>1</td>\n",
       "      <td>10</td>\n",
       "      <td>1</td>\n",
       "      <td>1</td>\n",
       "    </tr>\n",
       "    <tr>\n",
       "      <th>2</th>\n",
       "      <td>1</td>\n",
       "      <td>24</td>\n",
       "      <td>4</td>\n",
       "      <td>0</td>\n",
       "      <td>1</td>\n",
       "      <td>1</td>\n",
       "      <td>1</td>\n",
       "      <td>1</td>\n",
       "    </tr>\n",
       "    <tr>\n",
       "      <th>3</th>\n",
       "      <td>1</td>\n",
       "      <td>44</td>\n",
       "      <td>0</td>\n",
       "      <td>1</td>\n",
       "      <td>0</td>\n",
       "      <td>1</td>\n",
       "      <td>1</td>\n",
       "      <td>0</td>\n",
       "    </tr>\n",
       "    <tr>\n",
       "      <th>4</th>\n",
       "      <td>1</td>\n",
       "      <td>41</td>\n",
       "      <td>14</td>\n",
       "      <td>0</td>\n",
       "      <td>1</td>\n",
       "      <td>6</td>\n",
       "      <td>1</td>\n",
       "      <td>0</td>\n",
       "    </tr>\n",
       "  </tbody>\n",
       "</table>\n",
       "</div>"
      ],
      "text/plain": [
       "   Sex  Age  Priors_Count  C_Charge_Degree  Two_Year_Recid  Length_Of_Stay  \\\n",
       "0    1   69             0                0               0               0   \n",
       "1    1   34             0                0               1              10   \n",
       "2    1   24             4                0               1               1   \n",
       "3    1   44             0                1               0               1   \n",
       "4    1   41            14                0               1               6   \n",
       "\n",
       "   Score  Race  \n",
       "0      1     0  \n",
       "1      1     1  \n",
       "2      1     1  \n",
       "3      1     0  \n",
       "4      1     0  "
      ]
     },
     "execution_count": 12,
     "metadata": {},
     "output_type": "execute_result"
    }
   ],
   "source": [
    "data.head()"
   ]
  },
  {
   "cell_type": "code",
   "execution_count": 13,
   "id": "78d26046",
   "metadata": {},
   "outputs": [
    {
     "data": {
      "text/plain": [
       "(6172, 8)"
      ]
     },
     "execution_count": 13,
     "metadata": {},
     "output_type": "execute_result"
    }
   ],
   "source": [
    "data.shape"
   ]
  },
  {
   "cell_type": "code",
   "execution_count": 14,
   "id": "5be101f6",
   "metadata": {},
   "outputs": [
    {
     "name": "stdout",
     "output_type": "stream",
     "text": [
      "train: (5554, 7)\n",
      "test: (618, 7)\n"
     ]
    }
   ],
   "source": [
    "feature_names = data.columns.drop(target_name)\n",
    "# Split data\n",
    "train, test = train_test_split(data, test_size=0.1, random_state=2)\n",
    "\n",
    "X_train = train.drop(target_name, axis=1).reset_index(drop=True)\n",
    "X_test = test.drop(target_name, axis=1).reset_index(drop=True)\n",
    "\n",
    "Y_train = train[target_name].values\n",
    "Y_test = test[target_name].values\n",
    "\n",
    "print('train:', X_train.shape)\n",
    "print('test:', X_test.shape)"
   ]
  },
  {
   "cell_type": "code",
   "execution_count": 15,
   "id": "b157cfb4",
   "metadata": {},
   "outputs": [
    {
     "name": "stdout",
     "output_type": "stream",
     "text": [
      "0.8660424918977314\n",
      "0.8462783171521036\n"
     ]
    }
   ],
   "source": [
    "model = xgb.XGBRFClassifier(random_state=2023, use_label_encoder=False,\n",
    "                          objective='binary:logistic', eval_metric='logloss')\n",
    "model.fit(X_train, Y_train)\n",
    "\n",
    "print(model.score(X_train, Y_train))\n",
    "print(model.score(X_test, Y_test))"
   ]
  },
  {
   "cell_type": "code",
   "execution_count": 16,
   "id": "4e0e53a1",
   "metadata": {},
   "outputs": [],
   "source": [
    "train_scores = []\n",
    "test_scores = []\n",
    "all_pfi_means = []\n",
    "rep = 100\n",
    "n = 3000\n",
    "model = xgb.XGBRFClassifier(random_state=2023, use_label_encoder=False,\n",
    "                          objective='binary:logistic', eval_metric='logloss')\n",
    "\n",
    "for i in range(rep):\n",
    "    data_i = train.sample(frac=1, replace=True, random_state=i+1)\n",
    "    train_i = data_i.sample(n=n, replace=False, random_state=i+2)\n",
    "    X_train = train_i.drop(target_name, axis=1).reset_index(drop=True)\n",
    "    Y_train = train_i[target_name].values\n",
    "    model.fit(X_train, Y_train)\n",
    "    train_scores.append(model.score(X_train, Y_train))\n",
    "    test_scores.append(model.score(X_test, Y_test))\n",
    "    pfi_means, _ = get_pfi_obs(model, X_test, Y_test, num_perms=1000, is_reg=False, seed=2023, return_local=False)\n",
    "    all_pfi_means.append(pfi_means)"
   ]
  },
  {
   "cell_type": "code",
   "execution_count": 17,
   "id": "d54f512e",
   "metadata": {},
   "outputs": [
    {
     "data": {
      "text/html": [
       "<div>\n",
       "<style scoped>\n",
       "    .dataframe tbody tr th:only-of-type {\n",
       "        vertical-align: middle;\n",
       "    }\n",
       "\n",
       "    .dataframe tbody tr th {\n",
       "        vertical-align: top;\n",
       "    }\n",
       "\n",
       "    .dataframe thead th {\n",
       "        text-align: right;\n",
       "    }\n",
       "</style>\n",
       "<table border=\"1\" class=\"dataframe\">\n",
       "  <thead>\n",
       "    <tr style=\"text-align: right;\">\n",
       "      <th></th>\n",
       "      <th>train_score</th>\n",
       "      <th>test_score</th>\n",
       "    </tr>\n",
       "  </thead>\n",
       "  <tbody>\n",
       "    <tr>\n",
       "      <th>0</th>\n",
       "      <td>0.877667</td>\n",
       "      <td>0.839806</td>\n",
       "    </tr>\n",
       "    <tr>\n",
       "      <th>1</th>\n",
       "      <td>0.877667</td>\n",
       "      <td>0.846278</td>\n",
       "    </tr>\n",
       "    <tr>\n",
       "      <th>2</th>\n",
       "      <td>0.880333</td>\n",
       "      <td>0.849515</td>\n",
       "    </tr>\n",
       "    <tr>\n",
       "      <th>3</th>\n",
       "      <td>0.878333</td>\n",
       "      <td>0.844660</td>\n",
       "    </tr>\n",
       "    <tr>\n",
       "      <th>4</th>\n",
       "      <td>0.880667</td>\n",
       "      <td>0.849515</td>\n",
       "    </tr>\n",
       "  </tbody>\n",
       "</table>\n",
       "</div>"
      ],
      "text/plain": [
       "   train_score  test_score\n",
       "0     0.877667    0.839806\n",
       "1     0.877667    0.846278\n",
       "2     0.880333    0.849515\n",
       "3     0.878333    0.844660\n",
       "4     0.880667    0.849515"
      ]
     },
     "execution_count": 17,
     "metadata": {},
     "output_type": "execute_result"
    }
   ],
   "source": [
    "scores = pd.DataFrame({'train_score': train_scores, 'test_score': test_scores})\n",
    "scores.head()"
   ]
  },
  {
   "cell_type": "code",
   "execution_count": 18,
   "id": "f32196b2",
   "metadata": {},
   "outputs": [
    {
     "data": {
      "text/html": [
       "<div>\n",
       "<style scoped>\n",
       "    .dataframe tbody tr th:only-of-type {\n",
       "        vertical-align: middle;\n",
       "    }\n",
       "\n",
       "    .dataframe tbody tr th {\n",
       "        vertical-align: top;\n",
       "    }\n",
       "\n",
       "    .dataframe thead th {\n",
       "        text-align: right;\n",
       "    }\n",
       "</style>\n",
       "<table border=\"1\" class=\"dataframe\">\n",
       "  <thead>\n",
       "    <tr style=\"text-align: right;\">\n",
       "      <th></th>\n",
       "      <th>Sex</th>\n",
       "      <th>Age</th>\n",
       "      <th>Priors_Count</th>\n",
       "      <th>C_Charge_Degree</th>\n",
       "      <th>Two_Year_Recid</th>\n",
       "      <th>Length_Of_Stay</th>\n",
       "      <th>Race</th>\n",
       "    </tr>\n",
       "  </thead>\n",
       "  <tbody>\n",
       "    <tr>\n",
       "      <th>0</th>\n",
       "      <td>0.000299</td>\n",
       "      <td>0.022811</td>\n",
       "      <td>0.032065</td>\n",
       "      <td>0.000176</td>\n",
       "      <td>0.002782</td>\n",
       "      <td>0.006012</td>\n",
       "      <td>0.000545</td>\n",
       "    </tr>\n",
       "    <tr>\n",
       "      <th>1</th>\n",
       "      <td>0.000069</td>\n",
       "      <td>0.025417</td>\n",
       "      <td>0.029821</td>\n",
       "      <td>0.000324</td>\n",
       "      <td>0.001906</td>\n",
       "      <td>0.006139</td>\n",
       "      <td>0.000945</td>\n",
       "    </tr>\n",
       "    <tr>\n",
       "      <th>2</th>\n",
       "      <td>0.000291</td>\n",
       "      <td>0.023817</td>\n",
       "      <td>0.029476</td>\n",
       "      <td>0.000136</td>\n",
       "      <td>0.003281</td>\n",
       "      <td>0.007067</td>\n",
       "      <td>0.000318</td>\n",
       "    </tr>\n",
       "    <tr>\n",
       "      <th>3</th>\n",
       "      <td>0.000058</td>\n",
       "      <td>0.024719</td>\n",
       "      <td>0.035281</td>\n",
       "      <td>-0.000207</td>\n",
       "      <td>0.002581</td>\n",
       "      <td>0.005994</td>\n",
       "      <td>0.000923</td>\n",
       "    </tr>\n",
       "    <tr>\n",
       "      <th>4</th>\n",
       "      <td>0.000111</td>\n",
       "      <td>0.024737</td>\n",
       "      <td>0.030290</td>\n",
       "      <td>0.000146</td>\n",
       "      <td>0.003109</td>\n",
       "      <td>0.008045</td>\n",
       "      <td>0.000358</td>\n",
       "    </tr>\n",
       "  </tbody>\n",
       "</table>\n",
       "</div>"
      ],
      "text/plain": [
       "        Sex       Age  Priors_Count  C_Charge_Degree  Two_Year_Recid  \\\n",
       "0  0.000299  0.022811      0.032065         0.000176        0.002782   \n",
       "1  0.000069  0.025417      0.029821         0.000324        0.001906   \n",
       "2  0.000291  0.023817      0.029476         0.000136        0.003281   \n",
       "3  0.000058  0.024719      0.035281        -0.000207        0.002581   \n",
       "4  0.000111  0.024737      0.030290         0.000146        0.003109   \n",
       "\n",
       "   Length_Of_Stay      Race  \n",
       "0        0.006012  0.000545  \n",
       "1        0.006139  0.000945  \n",
       "2        0.007067  0.000318  \n",
       "3        0.005994  0.000923  \n",
       "4        0.008045  0.000358  "
      ]
     },
     "execution_count": 18,
     "metadata": {},
     "output_type": "execute_result"
    }
   ],
   "source": [
    "all_pfi_means = pd.DataFrame(all_pfi_means, columns=feature_names)\n",
    "all_pfi_means.head()"
   ]
  },
  {
   "cell_type": "code",
   "execution_count": 19,
   "id": "a5231a1c",
   "metadata": {},
   "outputs": [],
   "source": [
    "all_pfi_means = all_pfi_means.values"
   ]
  },
  {
   "cell_type": "code",
   "execution_count": 20,
   "id": "d2b454da",
   "metadata": {},
   "outputs": [],
   "source": [
    "colors = sns.color_palette(\"Set2\")\n",
    "colors_map = {feature: colors[i] for i, feature in enumerate(feature_names)}"
   ]
  },
  {
   "cell_type": "code",
   "execution_count": 21,
   "id": "a5760e89",
   "metadata": {},
   "outputs": [
    {
     "name": "stdout",
     "output_type": "stream",
     "text": [
      "10 efficiency: 0.1428571428571428\n",
      "40 efficiency: 0.0\n"
     ]
    },
    {
     "data": {
      "image/png": "[encoded data removed]",
      "text/plain": [
       "<Figure size 1728x576 with 2 Axes>"
      ]
     },
     "metadata": {},
     "output_type": "display_data"
    }
   ],
   "source": [
    "p = all_pfi_means.shape[1]\n",
    "ns = [10, 40]\n",
    "fig, axs = plt.subplots(1, len(ns), constrained_layout=True, figsize=(12 * len(ns), 8))\n",
    "prev_n = 0\n",
    "for i, n in enumerate(ns):\n",
    "    base = all_pfi_means[prev_n:n + prev_n, :]\n",
    "    ranks = confident_simultaneous_ranking(base, 0.1, 'min_p', rep_bootstrap=1000)\n",
    "    print(n, 'efficiency:', calc_efficiency(ranks['U'], ranks['L']))\n",
    "    pfi_means = np.mean(base, axis=0)\n",
    "    plot_ranks(ranks, pfi_means, feature_names, ax=axs[i], colors_map=colors_map)\n",
    "    axs[i].set_title('n=' + str(n))\n",
    "    prev_n = n"
   ]
  }
 ],
 "metadata": {
  "kernelspec": {
   "display_name": "Python 3 (ipykernel)",
   "language": "python",
   "name": "python3"
  },
  "language_info": {
   "codemirror_mode": {
    "name": "ipython",
    "version": 3
   },
   "file_extension": ".py",
   "mimetype": "text/x-python",
   "name": "python",
   "nbconvert_exporter": "python",
   "pygments_lexer": "ipython3",
   "version": "3.10.3"
  }
 },
 "nbformat": 4,
 "nbformat_minor": 5
}
